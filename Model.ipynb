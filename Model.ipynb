{
 "cells": [
  {
   "cell_type": "code",
   "execution_count": 1,
   "metadata": {},
   "outputs": [],
   "source": [
    "import pandas as pd\n",
    "import numpy as np\n",
    "from sklearn.model_selection import train_test_split\n",
    "from sklearn.metrics import mean_absolute_error, mean_squared_error, r2_score\n",
    "from sklearn.linear_model import LinearRegression\n",
    "from sklearn.tree import DecisionTreeRegressor\n",
    "from sklearn.ensemble import ExtraTreesRegressor\n",
    "from sklearn.ensemble import RandomForestRegressor\n",
    "from sklearn.ensemble import AdaBoostRegressor\n",
    "from sklearn.ensemble import GradientBoostingRegressor\n",
    "from sklearn.model_selection import GridSearchCV\n",
    "import matplotlib.pyplot as plt\n",
    "import joblib"
   ]
  },
  {
   "cell_type": "code",
   "execution_count": 2,
   "metadata": {},
   "outputs": [],
   "source": [
    "df = pd.read_excel(r\"C:\\My Folder\\Tuts\\Python\\Project\\Project 6 - Singapore Flat Resale Prices\\Code\\singapore_flat_resale_cleaned_data.xlsx\")"
   ]
  },
  {
   "cell_type": "code",
   "execution_count": null,
   "metadata": {},
   "outputs": [],
   "source": [
    "def machine_learning_delivery_date(df, algorithm):\n",
    "\n",
    "    x = df.drop(columns=['resale_price'], axis=1)\n",
    "    y = df['resale_price']\n",
    "    x_train, x_test, y_train, y_test = train_test_split(x,y,test_size=0.2)\n",
    "\n",
    "    model = algorithm().fit(x_train, y_train)\n",
    "    y_pred = model.predict(x_test)\n",
    "\n",
    "    mse = mean_squared_error(y_test, y_pred)\n",
    "    rmse = np.sqrt(mse)\n",
    "    r2 = r2_score(y_test, y_pred)\n",
    "    mae = mean_absolute_error(y_test, y_pred)\n",
    "\n",
    "    metrics = {'Algorithm': str(algorithm).split(\"'\")[1].split(\".\")[-1],\n",
    "               'R2': r2,\n",
    "               'Mean Absolute Error': mae,\n",
    "               'Mean Squared Error': mse,\n",
    "               'Root Mean Squared Error': rmse,\n",
    "               'Model': model}\n",
    "\n",
    "    return metrics"
   ]
  },
  {
   "cell_type": "code",
   "execution_count": null,
   "metadata": {},
   "outputs": [],
   "source": [
    "regressors = [LinearRegression, DecisionTreeRegressor, ExtraTreesRegressor, RandomForestRegressor, AdaBoostRegressor, GradientBoostingRegressor]\n",
    "results = []\n",
    "for regressor in regressors:\n",
    "    result = machine_learning_delivery_date(df, regressor)\n",
    "    print(result)\n",
    "    results.append(result)\n",
    "\n"
   ]
  },
  {
   "cell_type": "code",
   "execution_count": null,
   "metadata": {},
   "outputs": [],
   "source": [
    "results_df = pd.DataFrame(results)\n",
    "metrics_to_plot = ['R2', 'Mean Absolute Error', 'Mean Squared Error', 'Root Mean Squared Error']\n",
    "fig, axes = plt.subplots(2, 2, figsize=(15, 10))\n",
    "axes = axes.flatten()\n",
    "\n",
    "for i, metric in enumerate(metrics_to_plot):\n",
    "    axes[i].bar(results_df['Algorithm'], results_df[metric])\n",
    "    axes[i].set_title(metric)\n",
    "    axes[i].set_xlabel('Algorithm')\n",
    "    axes[i].set_ylabel(metric)\n",
    "    axes[i].tick_params(axis='x', rotation=45)\n",
    "\n",
    "plt.tight_layout()\n",
    "plt.show()"
   ]
  },
  {
   "cell_type": "code",
   "execution_count": null,
   "metadata": {},
   "outputs": [],
   "source": [
    "# It is clearly seen the Random Forest algorithm gives best accuracy compared to other algorithms.\n",
    "# It also low in Mean Absolute Error, Mean Squared Error and Root Mean Squared Error than other algorithms.\n",
    "# so let us choose Random Forest Algorithm\n",
    "\n",
    "# We shall now fine tune the algorithm for better accuracy"
   ]
  },
  {
   "cell_type": "code",
   "execution_count": null,
   "metadata": {},
   "outputs": [],
   "source": [
    "# Fine tuning takes too long time to complete the execution. Therefore let us take the Random Forest Algorithm as Final"
   ]
  },
  {
   "cell_type": "code",
   "execution_count": null,
   "metadata": {},
   "outputs": [],
   "source": [
    "user_data = np.array([[1, 0, 10.4880884817015, 17, 2.23606797749979, 67, 12, 3.46410161513775, 1990]])\n",
    "y_predict = best_model.predict(user_data)\n",
    "y_predict[0]"
   ]
  },
  {
   "cell_type": "code",
   "execution_count": null,
   "metadata": {},
   "outputs": [],
   "source": [
    "import joblib\n",
    "best_r2 = -np.inf\n",
    "best_model = None\n",
    "for result in results:\n",
    "  if result['R2'] > best_r2:\n",
    "    best_r2 = result['R2']\n",
    "    best_model = result['Model']\n",
    "\n",
    "if best_model is not None:\n",
    "  joblib.dump(best_model, 'singapore_flat_reasle_model.pkl')\n",
    "  print(f'Best model: {best_model} has been saved')\n"
   ]
  },
  {
   "cell_type": "code",
   "execution_count": null,
   "metadata": {},
   "outputs": [],
   "source": [
    "user_data = np.array([[1, 0, 10.4880884817015, 17, 2.23606797749979, 67, 12, 3.46410161513775, 1990]])\n",
    "y_predict = best_model.predict(user_data)\n",
    "y_predict[0]"
   ]
  }
 ],
 "metadata": {
  "kernelspec": {
   "display_name": "my_project_env",
   "language": "python",
   "name": "python3"
  },
  "language_info": {
   "codemirror_mode": {
    "name": "ipython",
    "version": 3
   },
   "file_extension": ".py",
   "mimetype": "text/x-python",
   "name": "python",
   "nbconvert_exporter": "python",
   "pygments_lexer": "ipython3",
   "version": "3.8.18"
  }
 },
 "nbformat": 4,
 "nbformat_minor": 2
}
